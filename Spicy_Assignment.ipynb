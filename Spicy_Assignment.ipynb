{
 "cells": [
  {
   "cell_type": "markdown",
   "metadata": {},
   "source": [
    "**Question 1.** Create a python program to find it out the Named entity recognition(NER) from the following sentence using spacy and visualizing those parts in sentence.\n",
    "\n",
    "\"I saw a kitten eating chicken in the kitchen\"\n",
    "\n",
    "**Question 2.** Find out the similar words from following list using spacy library.\n",
    "\n",
    "[\"ship car truck motor-bike jeep hagskdshd\"]\n",
    "\n",
    "**Question 3.** Visualize sentences including parts of speech(pos) tagging and linguistic annotation in it by using spacy library.\n",
    "\n",
    "**Question 4.** What is Word vector? And, how could you convert words into vector?\n",
    "\n",
    "**Question 5.** Define Vocab, hashes and lexemes in your own word."
   ]
  },
  {
   "cell_type": "markdown",
   "metadata": {},
   "source": [
    "#### Question 1. Create a python program to find it out the Named entity recognition(NER) from the following sentence using spacy and visualizing those parts in sentence.\n",
    "\n",
    "\"I saw a kitten eating chicken in the kitchen\""
   ]
  },
  {
   "cell_type": "code",
   "execution_count": 13,
   "metadata": {},
   "outputs": [
    {
     "name": "stdout",
     "output_type": "stream",
     "text": [
      "Named entities are: ()\n"
     ]
    },
    {
     "data": {
      "text/html": [
       "<span class=\"tex2jax_ignore\"><!DOCTYPE html>\n",
       "<html lang=\"en\">\n",
       "    <head>\n",
       "        <title>displaCy</title>\n",
       "    </head>\n",
       "\n",
       "    <body style=\"font-size: 16px; font-family: -apple-system, BlinkMacSystemFont, 'Segoe UI', Helvetica, Arial, sans-serif, 'Apple Color Emoji', 'Segoe UI Emoji', 'Segoe UI Symbol'; padding: 4rem 2rem; direction: ltr\">\n",
       "<figure style=\"margin-bottom: 6rem\">\n",
       "<div class=\"entities\" style=\"line-height: 2.5; direction: ltr\">I saw a kitten eating chicken in the kitchen</div>\n",
       "</figure>\n",
       "</body>\n",
       "</html></span>"
      ],
      "text/plain": [
       "<IPython.core.display.HTML object>"
      ]
     },
     "metadata": {},
     "output_type": "display_data"
    },
    {
     "name": "stdout",
     "output_type": "stream",
     "text": [
      "\n",
      "Using the 'ent' visualizer\n",
      "Serving on http://0.0.0.0:5000 ...\n",
      "\n",
      "Shutting down server on port 5000.\n",
      "None\n"
     ]
    }
   ],
   "source": [
    "import spacy\n",
    "from spacy import displacy\n",
    "nlp = spacy.load(\"en_core_web_sm\")\n",
    "text=\"I saw a kitten eating chicken in the kitchen\"\n",
    "doc=nlp(text)\n",
    "print(\"Named entities are:\",doc.ents)\n",
    "print(displacy.serve(doc,style='ent'))"
   ]
  },
  {
   "cell_type": "markdown",
   "metadata": {},
   "source": [
    "#### Question 2. Find out the similar words from following list using spacy library.\n",
    "\n",
    "[\"ship car truck motor-bike jeep hagskdshd\"]"
   ]
  },
  {
   "cell_type": "code",
   "execution_count": null,
   "metadata": {},
   "outputs": [],
   "source": [
    "import spacy.cli\n",
    "spacy.cli.download(\"en_core_web_md\")"
   ]
  },
  {
   "cell_type": "code",
   "execution_count": 11,
   "metadata": {},
   "outputs": [
    {
     "name": "stdout",
     "output_type": "stream",
     "text": [
      "ship ship 1.0\n",
      "ship car 0.2815587\n",
      "ship truck 0.35367906\n",
      "ship motor 0.2741221\n",
      "ship - 0.030455196\n",
      "ship bike 0.19740231\n",
      "ship jeep 0.2103627\n",
      "ship hagskdshd 0.0\n",
      "car ship 0.2815587\n",
      "car car 1.0\n",
      "car truck 0.7113439\n",
      "car motor 0.56552136\n",
      "car - 0.116037376\n",
      "car bike 0.5357731\n",
      "car jeep 0.5652786\n",
      "car hagskdshd 0.0\n",
      "truck ship 0.35367906\n",
      "truck car 0.7113439\n",
      "truck truck 1.0\n",
      "truck motor 0.52424634\n",
      "truck - 0.05919609\n",
      "truck bike 0.48927912\n",
      "truck jeep 0.62849003\n",
      "truck hagskdshd 0.0\n",
      "motor ship 0.2741221\n",
      "motor car 0.56552136\n",
      "motor truck 0.52424634\n",
      "motor motor 1.0\n",
      "motor - 0.010074199\n",
      "motor bike 0.46072814\n",
      "motor jeep 0.40830106\n",
      "motor hagskdshd 0.0\n",
      "- ship 0.030455196\n",
      "- car 0.116037376\n",
      "- truck 0.05919609\n",
      "- motor 0.010074199\n",
      "- - 1.0\n",
      "- bike 0.07374161\n",
      "- jeep -0.016787942\n",
      "- hagskdshd 0.0\n",
      "bike ship 0.19740231\n",
      "bike car 0.5357731\n",
      "bike truck 0.48927912\n",
      "bike motor 0.46072814\n",
      "bike - 0.07374161\n",
      "bike bike 1.0\n",
      "bike jeep 0.42305312\n",
      "bike hagskdshd 0.0\n",
      "jeep ship 0.2103627\n",
      "jeep car 0.5652786\n",
      "jeep truck 0.62849003\n",
      "jeep motor 0.40830106\n",
      "jeep - -0.016787942\n",
      "jeep bike 0.42305312\n",
      "jeep jeep 1.0\n",
      "jeep hagskdshd 0.0\n",
      "hagskdshd ship 0.0\n",
      "hagskdshd car 0.0\n",
      "hagskdshd truck 0.0\n",
      "hagskdshd motor 0.0\n",
      "hagskdshd - 0.0\n",
      "hagskdshd bike 0.0\n",
      "hagskdshd jeep 0.0\n",
      "hagskdshd hagskdshd 1.0\n"
     ]
    },
    {
     "name": "stderr",
     "output_type": "stream",
     "text": [
      "<ipython-input-11-336a45f6e620>:7: UserWarning: [W008] Evaluating Token.similarity based on empty vectors.\n",
      "  print(token1.text, token2.text, token1.similarity(token2))\n"
     ]
    }
   ],
   "source": [
    "import en_core_web_md\n",
    "nlp = en_core_web_md.load()\n",
    "\n",
    "tokens = nlp(\"ship car truck motor-bike jeep hagskdshd\")\n",
    "for token1 in tokens:\n",
    "    for token2 in tokens:\n",
    "        print(token1.text, token2.text, token1.similarity(token2))"
   ]
  },
  {
   "cell_type": "markdown",
   "metadata": {},
   "source": [
    "#### Question 3. Visualize sentences including parts of speech(pos) tagging and linguistic annotation in it by using spacy library."
   ]
  },
  {
   "cell_type": "code",
   "execution_count": 12,
   "metadata": {},
   "outputs": [
    {
     "data": {
      "text/html": [
       "<span class=\"tex2jax_ignore\"><!DOCTYPE html>\n",
       "<html lang=\"en\">\n",
       "    <head>\n",
       "        <title>displaCy</title>\n",
       "    </head>\n",
       "\n",
       "    <body style=\"font-size: 16px; font-family: -apple-system, BlinkMacSystemFont, 'Segoe UI', Helvetica, Arial, sans-serif, 'Apple Color Emoji', 'Segoe UI Emoji', 'Segoe UI Symbol'; padding: 4rem 2rem; direction: ltr\">\n",
       "<figure style=\"margin-bottom: 6rem\">\n",
       "<svg xmlns=\"http://www.w3.org/2000/svg\" xmlns:xlink=\"http://www.w3.org/1999/xlink\" xml:lang=\"en\" id=\"ca6eede7687a43f2ac3428077a291839-0\" class=\"displacy\" width=\"750\" height=\"312.0\" direction=\"ltr\" style=\"max-width: none; height: 312.0px; color: #000000; background: #ffffff; font-family: Arial; direction: ltr\">\n",
       "<text class=\"displacy-token\" fill=\"currentColor\" text-anchor=\"middle\" y=\"222.0\">\n",
       "    <tspan class=\"displacy-word\" fill=\"currentColor\" x=\"50\">This</tspan>\n",
       "    <tspan class=\"displacy-tag\" dy=\"2em\" fill=\"currentColor\" x=\"50\">DET</tspan>\n",
       "</text>\n",
       "\n",
       "<text class=\"displacy-token\" fill=\"currentColor\" text-anchor=\"middle\" y=\"222.0\">\n",
       "    <tspan class=\"displacy-word\" fill=\"currentColor\" x=\"225\">is</tspan>\n",
       "    <tspan class=\"displacy-tag\" dy=\"2em\" fill=\"currentColor\" x=\"225\">AUX</tspan>\n",
       "</text>\n",
       "\n",
       "<text class=\"displacy-token\" fill=\"currentColor\" text-anchor=\"middle\" y=\"222.0\">\n",
       "    <tspan class=\"displacy-word\" fill=\"currentColor\" x=\"400\">a</tspan>\n",
       "    <tspan class=\"displacy-tag\" dy=\"2em\" fill=\"currentColor\" x=\"400\">DET</tspan>\n",
       "</text>\n",
       "\n",
       "<text class=\"displacy-token\" fill=\"currentColor\" text-anchor=\"middle\" y=\"222.0\">\n",
       "    <tspan class=\"displacy-word\" fill=\"currentColor\" x=\"575\">sentence.</tspan>\n",
       "    <tspan class=\"displacy-tag\" dy=\"2em\" fill=\"currentColor\" x=\"575\">NOUN</tspan>\n",
       "</text>\n",
       "\n",
       "<g class=\"displacy-arrow\">\n",
       "    <path class=\"displacy-arc\" id=\"arrow-ca6eede7687a43f2ac3428077a291839-0-0\" stroke-width=\"2px\" d=\"M70,177.0 C70,89.5 220.0,89.5 220.0,177.0\" fill=\"none\" stroke=\"currentColor\"/>\n",
       "    <text dy=\"1.25em\" style=\"font-size: 0.8em; letter-spacing: 1px\">\n",
       "        <textPath xlink:href=\"#arrow-ca6eede7687a43f2ac3428077a291839-0-0\" class=\"displacy-label\" startOffset=\"50%\" side=\"left\" fill=\"currentColor\" text-anchor=\"middle\">nsubj</textPath>\n",
       "    </text>\n",
       "    <path class=\"displacy-arrowhead\" d=\"M70,179.0 L62,167.0 78,167.0\" fill=\"currentColor\"/>\n",
       "</g>\n",
       "\n",
       "<g class=\"displacy-arrow\">\n",
       "    <path class=\"displacy-arc\" id=\"arrow-ca6eede7687a43f2ac3428077a291839-0-1\" stroke-width=\"2px\" d=\"M420,177.0 C420,89.5 570.0,89.5 570.0,177.0\" fill=\"none\" stroke=\"currentColor\"/>\n",
       "    <text dy=\"1.25em\" style=\"font-size: 0.8em; letter-spacing: 1px\">\n",
       "        <textPath xlink:href=\"#arrow-ca6eede7687a43f2ac3428077a291839-0-1\" class=\"displacy-label\" startOffset=\"50%\" side=\"left\" fill=\"currentColor\" text-anchor=\"middle\">det</textPath>\n",
       "    </text>\n",
       "    <path class=\"displacy-arrowhead\" d=\"M420,179.0 L412,167.0 428,167.0\" fill=\"currentColor\"/>\n",
       "</g>\n",
       "\n",
       "<g class=\"displacy-arrow\">\n",
       "    <path class=\"displacy-arc\" id=\"arrow-ca6eede7687a43f2ac3428077a291839-0-2\" stroke-width=\"2px\" d=\"M245,177.0 C245,2.0 575.0,2.0 575.0,177.0\" fill=\"none\" stroke=\"currentColor\"/>\n",
       "    <text dy=\"1.25em\" style=\"font-size: 0.8em; letter-spacing: 1px\">\n",
       "        <textPath xlink:href=\"#arrow-ca6eede7687a43f2ac3428077a291839-0-2\" class=\"displacy-label\" startOffset=\"50%\" side=\"left\" fill=\"currentColor\" text-anchor=\"middle\">attr</textPath>\n",
       "    </text>\n",
       "    <path class=\"displacy-arrowhead\" d=\"M575.0,179.0 L583.0,167.0 567.0,167.0\" fill=\"currentColor\"/>\n",
       "</g>\n",
       "</svg>\n",
       "</figure>\n",
       "</body>\n",
       "</html></span>"
      ],
      "text/plain": [
       "<IPython.core.display.HTML object>"
      ]
     },
     "metadata": {},
     "output_type": "display_data"
    },
    {
     "name": "stdout",
     "output_type": "stream",
     "text": [
      "\n",
      "Using the 'dep' visualizer\n",
      "Serving on http://0.0.0.0:5000 ...\n",
      "\n",
      "Shutting down server on port 5000.\n"
     ]
    }
   ],
   "source": [
    "import spacy\n",
    "from spacy import displacy\n",
    "\n",
    "nlp = spacy.load(\"en_core_web_sm\")\n",
    "doc = nlp(\"This is a sentence.\")\n",
    "displacy.serve(doc, style=\"dep\")"
   ]
  },
  {
   "cell_type": "markdown",
   "metadata": {},
   "source": [
    "#### Question 4. What is Word vector? And, how could you convert words into vector?"
   ]
  },
  {
   "cell_type": "markdown",
   "metadata": {},
   "source": [
    "Word Vector: A word vector is a row of real valued numbers (dense vectors)  where each point captures a \n",
    "            dimension of the word’s meaning and where semantically similar words have similar vectors.\n",
    "Word embedding is used to convert the words into vector in a vector space of n dimesion.\n",
    "word2vec,glove are commonly usedprediction modesl for word embeddings"
   ]
  },
  {
   "cell_type": "markdown",
   "metadata": {},
   "source": [
    "#### Question 5. Define Vocab, hashes and lexemes in your own word.\n",
    "Vocab: Vocab is the vocabulary of words stored by spacy which will be used to share across the documents.\n",
    "\n",
    "Hashes:It would be difficult, if same repeats in the vocabulary which will take more memory.Instead, hashes uses\n",
    "        hashing technique to assign a unique number to the word which saves the memory\n",
    "\n",
    "Lexemes: A basic lexical unit of a language consisting of one word or several words, the elements of which do not separately convey the meaning of the whole.\n",
    "\n",
    "Lexemes are the structural variations of morphemes related to one\n",
    "another by meaning.\n",
    "For example, “run” and “running” belong to the same lexeme form."
   ]
  },
  {
   "cell_type": "code",
   "execution_count": null,
   "metadata": {},
   "outputs": [],
   "source": []
  }
 ],
 "metadata": {
  "kernelspec": {
   "display_name": "Python 3",
   "language": "python",
   "name": "python3"
  },
  "language_info": {
   "codemirror_mode": {
    "name": "ipython",
    "version": 3
   },
   "file_extension": ".py",
   "mimetype": "text/x-python",
   "name": "python",
   "nbconvert_exporter": "python",
   "pygments_lexer": "ipython3",
   "version": "3.8.5"
  }
 },
 "nbformat": 4,
 "nbformat_minor": 4
}
