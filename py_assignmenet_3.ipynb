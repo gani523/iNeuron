{
 "cells": [
  {
   "cell_type": "markdown",
   "metadata": {},
   "source": [
    "1 Write a Python Program to implement your own myreduce() function which works exactly like Python's built-in function reduce()"
   ]
  },
  {
   "cell_type": "code",
   "execution_count": 83,
   "metadata": {},
   "outputs": [
    {
     "data": {
      "text/plain": [
       "6000"
      ]
     },
     "execution_count": 83,
     "metadata": {},
     "output_type": "execute_result"
    }
   ],
   "source": [
    "fun=lambda x,y:x*y\n",
    "def myreduce(fun,lst):\n",
    "    x=lst[0]\n",
    "    for idx in range(1,len(lst)):\n",
    "        x=fun(x,lst[idx])\n",
    "    return x\n",
    "\n",
    "myreduce(fun,[10,20,30])"
   ]
  },
  {
   "cell_type": "markdown",
   "metadata": {},
   "source": [
    "2 Write a Python program to implement your own myfilter() function which works exactly like Python's built-in function filter()"
   ]
  },
  {
   "cell_type": "code",
   "execution_count": 107,
   "metadata": {},
   "outputs": [
    {
     "name": "stdout",
     "output_type": "stream",
     "text": [
      "Even numbers of the list are: [10, 20]\n",
      "Odd numbers of the list are: [33, 45]\n"
     ]
    }
   ],
   "source": [
    "#Method1\n",
    "\n",
    "def even_check(ele):\n",
    "    if ele%2==0 :\n",
    "        return True\n",
    "    else :\n",
    "        return False\n",
    "def odd_check(ele):\n",
    "    if ele%2!=0 :\n",
    "        return True\n",
    "    else :\n",
    "        return False\n",
    "    \n",
    "def myfilter(fun,lst):\n",
    "    finallst=[]\n",
    "    for idx in lst :\n",
    "        if fun(idx):\n",
    "            finallst.append(idx)\n",
    "    return finallst\n",
    "\n",
    "myfilter(even_check,[10,11,20,33,32])\n",
    "\n",
    "#Method 2\n",
    "\n",
    "def myfilter2(fun,lst):\n",
    "    return [i for i in lst if fun(i)]\n",
    "\n",
    "print(\"Even numbers of the list are:\", myfilter2(even_check,[10,20,33,45]))\n",
    "print(\"Odd numbers of the list are:\", myfilter2(odd_check,[10,20,33,45]))\n",
    "\n"
   ]
  },
  {
   "cell_type": "markdown",
   "metadata": {},
   "source": [
    "2. Implement List comprehensions to produce the following lists. \n",
    "\n",
    "['x', 'xx', 'xxx', 'xxxx', 'y', 'yy', 'yyy', 'yyyy', 'z', 'zz', 'zzz', 'zzzz']\n",
    "\n",
    "['x', 'y', 'z', 'xx', 'yy', 'zz', 'xxx', 'yyy', 'zzz', 'xxxx', 'yyyy', 'zzzz'] \n",
    "\n",
    "[[2], [3], [4], [3], [4], [5], [4], [5], [6]] [[2, 3, 4, 5], [3, 4, 5, 6], [4, 5, 6, 7], [5, 6, 7,8]] \n",
    "\n",
    "[(1, 1), (2, 1), (3, 1), (1, 2), (2, 2), (3, 2), (1, 3), (2, 3), (3, 3)]"
   ]
  },
  {
   "cell_type": "code",
   "execution_count": 39,
   "metadata": {},
   "outputs": [
    {
     "name": "stdout",
     "output_type": "stream",
     "text": [
      "['x', 'xx', 'xxx', 'xxxx', 'y', 'yy', 'yyy', 'yyyy', 'z', 'zz', 'zzz', 'zzzz']\n",
      "['x', 'y', 'z', 'xx', 'yy', 'zz', 'xxx', 'yyy', 'zzz', 'xxxx', 'yyyy', 'zzzz']\n",
      "[[2], [3], [4], [3], [4], [5], [4], [5], [6], [2, 3, 4, 5], [3, 4, 5, 6], [4, 5, 6, 7], [5, 6, 7, 8]]\n",
      "[(1, 1), (2, 1), (3, 1), (1, 2), (2, 2), (3, 2), (1, 3), (2, 3), (3, 3)]\n"
     ]
    }
   ],
   "source": [
    "lst1=[]\n",
    "lst2=[]\n",
    "lst3=[]\n",
    "lst4=[]\n",
    "for idx in ['x','y','z']:\n",
    "    lst1.extend([i*idx for i in range(1,5)])\n",
    "for idx in range(1,5):\n",
    "    lst2.extend([i*idx for i in ['x','y','z']])\n",
    "lst3 = [[a+b] for a in range(2,5) for b in range(0,3) ] \n",
    "lst3.extend([[a+b for a in range(2,6)] for b in range(0,4) ] )\n",
    "lst4.extend([(b,a) for a in range(1,4) for b in range(1,4) ] )\n",
    "print(lst1)\n",
    "print(lst2)\n",
    "print(lst3)\n",
    "print(lst4)"
   ]
  },
  {
   "cell_type": "code",
   "execution_count": null,
   "metadata": {},
   "outputs": [],
   "source": []
  }
 ],
 "metadata": {
  "kernelspec": {
   "display_name": "Python 3",
   "language": "python",
   "name": "python3"
  },
  "language_info": {
   "codemirror_mode": {
    "name": "ipython",
    "version": 3
   },
   "file_extension": ".py",
   "mimetype": "text/x-python",
   "name": "python",
   "nbconvert_exporter": "python",
   "pygments_lexer": "ipython3",
   "version": "3.8.5"
  }
 },
 "nbformat": 4,
 "nbformat_minor": 4
}
