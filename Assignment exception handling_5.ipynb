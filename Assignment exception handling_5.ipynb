{
 "cells": [
  {
   "cell_type": "raw",
   "metadata": {},
   "source": [
    "1. Write a function to compute 5/0 and use try/except to catch the exceptions."
   ]
  },
  {
   "cell_type": "code",
   "execution_count": 32,
   "metadata": {},
   "outputs": [],
   "source": [
    "def compute(x,y):\n",
    "    res=0\n",
    "    try:\n",
    "        res= x/y\n",
    "    except ZeroDivisionError:\n",
    "        print(\"Exception:Division by zero\")  \n",
    "    except:\n",
    "        print(\"Other exceptions\")\n",
    "    finally:\n",
    "        print(\"The compute function is executed succesfully\")\n",
    "    return res"
   ]
  },
  {
   "cell_type": "code",
   "execution_count": 33,
   "metadata": {},
   "outputs": [
    {
     "name": "stdout",
     "output_type": "stream",
     "text": [
      "Exception:Division by zero\n",
      "The compute function is executed succesfully\n",
      "The value after division is: 0\n"
     ]
    }
   ],
   "source": [
    "print(\"The value after division is:\",compute(10,0))"
   ]
  },
  {
   "cell_type": "markdown",
   "metadata": {},
   "source": [
    "    2. Implement a Python program to generate all sentences where subject is in [\"Americans\", \"Indians\"] and \n",
    "       verb is in [\"Play\", \"watch\"] and the object is in [\"Baseball\",\"cricket\"].\n",
    "       Hint: Subject,Verb and Object should be declared in the program as shown below.\n",
    "        \n",
    "        subjects=[\"Americans \",\"Indians\"]\n",
    "        verbs=[\"play\",\"watch\"]\n",
    "        objects=[\"Baseball\",\"Cricket\"]\n",
    "        Output should come as below:\n",
    "        Americans play Baseball.\n",
    "        Americans play Cricket.\n",
    "        Americans watch Baseball.\n",
    "        Americans watch Cricket.\n",
    "        Indians play Baseball.\n",
    "        Indians play Cricket.\n",
    "        Indians watch Baseball.\n",
    "        Indians watch Cricket."
   ]
  },
  {
   "cell_type": "code",
   "execution_count": 61,
   "metadata": {},
   "outputs": [
    {
     "name": "stdout",
     "output_type": "stream",
     "text": [
      "Final output is :\n",
      "Americans play Baseball.\n",
      "Americans play Cricket.\n",
      "Americans watch Baseball.\n",
      "Americans watch Cricket.\n",
      "Indians play Baseball.\n",
      "Indians play Cricket.\n",
      "Indians watch Baseball.\n",
      "Indians watch Cricket.\n"
     ]
    }
   ],
   "source": [
    "subjects=[\"Americans\",\"Indians\"]\n",
    "verbs=[\"play\",\"watch\"]\n",
    "objects=[\"Baseball\",\"Cricket\"]\n",
    "\n",
    "sentences = [(s+' '+v+' '+o+\".\") for s in subjects for v in verbs for o in objects]\n",
    "\n",
    "#for Loop for Iteration\n",
    "print(\"Final output is :\")\n",
    "for i in sentences:    \n",
    "    print(i)"
   ]
  },
  {
   "cell_type": "code",
   "execution_count": 50,
   "metadata": {},
   "outputs": [],
   "source": []
  }
 ],
 "metadata": {
  "kernelspec": {
   "display_name": "Python 3",
   "language": "python",
   "name": "python3"
  },
  "language_info": {
   "codemirror_mode": {
    "name": "ipython",
    "version": 3
   },
   "file_extension": ".py",
   "mimetype": "text/x-python",
   "name": "python",
   "nbconvert_exporter": "python",
   "pygments_lexer": "ipython3",
   "version": "3.8.5"
  }
 },
 "nbformat": 4,
 "nbformat_minor": 4
}
