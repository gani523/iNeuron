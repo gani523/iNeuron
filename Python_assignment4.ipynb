{
 "cells": [
  {
   "cell_type": "markdown",
   "metadata": {},
   "source": [
    "1.1 Write a Python Program(with class concepts) to find the area of the triangle using the below\n",
    "formula.\n",
    "    area = (s*(s-a)*(s-b)*(s-c)) ** 0.5\n",
    "Function to take the length of the sides of triangle from user should be defined in the parent\n",
    "class and function to calculate the area should be defined in subclass"
   ]
  },
  {
   "cell_type": "code",
   "execution_count": 7,
   "metadata": {},
   "outputs": [],
   "source": [
    "#s is semi parameter which is (a+b+c)/2. a,b,c are the sides of the traingle\n",
    "class Area:\n",
    "    def __init__(self,side1=0.0,side2=0.0,side3=0.0):\n",
    "        self._s=0\n",
    "        self._a=side1\n",
    "        self._b=side2\n",
    "        self._c=side3\n",
    "        \n",
    "    def area_fun(self,side1,side2,side3):\n",
    "        self.__init__(side1,side2,side3)\n",
    "        self._s=(self._a+self._b+self._b)/2\n",
    "        return (self._s * (self._s -self._a) *(self._s-self._b)*(self._s-self._c))**0.5\n",
    "    \n",
    "\n"
   ]
  },
  {
   "cell_type": "code",
   "execution_count": 10,
   "metadata": {},
   "outputs": [
    {
     "name": "stdout",
     "output_type": "stream",
     "text": [
      "Enter first side: 3\n",
      "Enter second side: 4\n",
      "Enter third side: 5\n",
      "The area of the triangle is 3.21\n"
     ]
    }
   ],
   "source": [
    "a = float(input('Enter first side: '))\n",
    "b = float(input('Enter second side: '))\n",
    "c = float(input('Enter third side: '))\n",
    "area_obj=Area()  \n",
    "print('The area of the triangle is %0.2f' % area_obj.area_fun(a,b,c))"
   ]
  },
  {
   "cell_type": "markdown",
   "metadata": {},
   "source": [
    "1.2 Write a function filter_long_words() that takes a list of words and an integer n and returns\n",
    "the list of words that are longer than n."
   ]
  },
  {
   "cell_type": "code",
   "execution_count": 41,
   "metadata": {},
   "outputs": [
    {
     "name": "stdout",
     "output_type": "stream",
     "text": [
      "['function', 'returns', 'words', 'specified', 'length']\n"
     ]
    }
   ],
   "source": [
    " def filter_long_words(lst_of_words,n):  \n",
    "        words = []  \n",
    "        for x in lst_of_words:  \n",
    "            if len(x) > n:  \n",
    "                words.append(x)  \n",
    "        return words   \n",
    "print(filter_long_words([\"This\",\"function\",\"returns\",\"only\",\"words\",\"with\",\"specified\",\"length\"],4)) "
   ]
  },
  {
   "cell_type": "markdown",
   "metadata": {},
   "source": [
    "2.1 Write a Python program using function concept that maps list of words into a list of integers\n",
    "representing the lengths of the corresponding words.\n",
    "\n",
    "    Hint: If a list [ ab,cde,erty] is passed on to the python function output should come as [2,3,4]\n",
    "    Here 2,3 and 4 are the lengths of the words in the list."
   ]
  },
  {
   "cell_type": "code",
   "execution_count": 28,
   "metadata": {},
   "outputs": [
    {
     "name": "stdout",
     "output_type": "stream",
     "text": [
      "[4, 8, 7, 3, 6, 2, 3, 5]\n"
     ]
    }
   ],
   "source": [
    "def words_len(list_words):\n",
    "    lst_len=[]   \n",
    "    for i in list_words:\n",
    "        lst_len.append(len(i))\n",
    "    return lst_len\n",
    "print(words_len([\"This\",\"function\",\"returns\",\"the\",\"length\",\"of\",\"the\",\"words\"]))\n",
    "        "
   ]
  },
  {
   "cell_type": "markdown",
   "metadata": {},
   "source": [
    "2.2 Write a Python function which takes a character (i.e. a string of length 1) and returns True if\n",
    "it is a vowel, False otherwise."
   ]
  },
  {
   "cell_type": "code",
   "execution_count": 39,
   "metadata": {},
   "outputs": [
    {
     "data": {
      "text/plain": [
       "False"
      ]
     },
     "execution_count": 39,
     "metadata": {},
     "output_type": "execute_result"
    }
   ],
   "source": [
    "def vowel_fun(chr):\n",
    "    return chr.lower() in ['a','e','i','o','u']\n",
    "vowel_fun('b')"
   ]
  },
  {
   "cell_type": "code",
   "execution_count": null,
   "metadata": {},
   "outputs": [],
   "source": []
  }
 ],
 "metadata": {
  "kernelspec": {
   "display_name": "Python 3",
   "language": "python",
   "name": "python3"
  },
  "language_info": {
   "codemirror_mode": {
    "name": "ipython",
    "version": 3
   },
   "file_extension": ".py",
   "mimetype": "text/x-python",
   "name": "python",
   "nbconvert_exporter": "python",
   "pygments_lexer": "ipython3",
   "version": "3.8.5"
  }
 },
 "nbformat": 4,
 "nbformat_minor": 4
}
